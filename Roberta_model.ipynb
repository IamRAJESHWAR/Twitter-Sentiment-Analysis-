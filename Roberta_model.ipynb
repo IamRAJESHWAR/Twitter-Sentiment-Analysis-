{
 "cells": [
  {
   "cell_type": "code",
   "execution_count": 1,
   "metadata": {
    "colab": {
     "base_uri": "https://localhost:8080/",
     "height": 1000
    },
    "id": "eYjMPKxGLKuG",
    "outputId": "69c3df45-3546-433b-8889-9a3a883c90b1"
   },
   "outputs": [
    {
     "name": "stdout",
     "output_type": "stream",
     "text": [
      "\n",
      "===== HARDWARE INFORMATION =====\n",
      "Using GPU: Tesla T4\n",
      "GPU Memory: 15.83 GB\n",
      "CPU Cores: 1 (Physical), 2 (Logical)\n",
      "RAM Available: 10.74 GB / 13.61 GB\n",
      "================================\n",
      "\n",
      "Starting RoBERTa training for Twitter sentiment analysis with 400K samples...\n",
      "Loading data from /content/training.1600000.processed.noemoticon.csv...\n",
      "Initial dataset size: 1600000 rows\n",
      "Using subset of 400000 examples for training (200K per class)\n",
      "Sampled dataset size: 400000 rows\n",
      "Final dataset size after cleaning: 400000 rows\n",
      "Class distribution:\n",
      "  Class 0: 200000 samples (50.0%)\n",
      "  Class 4: 200000 samples (50.0%)\n",
      "Applying minimal preprocessing...\n",
      "Train set: 280000 examples (70.0%)\n",
      "Validation set: 40000 examples (10.0%)\n",
      "Test set: 80000 examples (20.0%)\n",
      "Loading roberta-base...\n"
     ]
    },
    {
     "name": "stderr",
     "output_type": "stream",
     "text": [
      "Some weights of RobertaForSequenceClassification were not initialized from the model checkpoint at roberta-base and are newly initialized: ['classifier.dense.bias', 'classifier.dense.weight', 'classifier.out_proj.bias', 'classifier.out_proj.weight']\n",
      "You should probably TRAIN this model on a down-stream task to be able to use it for predictions and inference.\n"
     ]
    },
    {
     "name": "stdout",
     "output_type": "stream",
     "text": [
      "GPU Memory: 476.7MB allocated, 530.0MB reserved\n",
      "\n",
      "==================== Epoch 1/2 ====================\n"
     ]
    },
    {
     "name": "stderr",
     "output_type": "stream",
     "text": [
      "Training:  10%|█         | 875/8750 [04:12<36:59,  3.55batch/s, loss=0.399, acc=0.729]"
     ]
    },
    {
     "name": "stdout",
     "output_type": "stream",
     "text": [
      "\n",
      "  Batch 875/8750, Loss: 0.5080, Time: 252.2s, Samples/sec: 111.0\n",
      "GPU Memory: 1447.3MB allocated, 2834.0MB reserved\n"
     ]
    },
    {
     "name": "stderr",
     "output_type": "stream",
     "text": [
      "Training:  20%|██        | 1750/8750 [08:20<32:52,  3.55batch/s, loss=0.396, acc=0.779]"
     ]
    },
    {
     "name": "stdout",
     "output_type": "stream",
     "text": [
      "\n",
      "  Batch 1750/8750, Loss: 0.3889, Time: 500.2s, Samples/sec: 112.0\n",
      "GPU Memory: 1447.3MB allocated, 2834.0MB reserved\n"
     ]
    },
    {
     "name": "stderr",
     "output_type": "stream",
     "text": [
      "Training:  30%|███       | 2625/8750 [12:28<28:54,  3.53batch/s, loss=0.371, acc=0.798]"
     ]
    },
    {
     "name": "stdout",
     "output_type": "stream",
     "text": [
      "\n",
      "  Batch 2625/8750, Loss: 0.3773, Time: 748.1s, Samples/sec: 112.3\n",
      "GPU Memory: 1447.3MB allocated, 2834.0MB reserved\n"
     ]
    },
    {
     "name": "stderr",
     "output_type": "stream",
     "text": [
      "Training:  40%|████      | 3500/8750 [16:35<24:56,  3.51batch/s, loss=0.356, acc=0.81]"
     ]
    },
    {
     "name": "stdout",
     "output_type": "stream",
     "text": [
      "\n",
      "  Batch 3500/8750, Loss: 0.3610, Time: 996.0s, Samples/sec: 112.5\n",
      "GPU Memory: 1447.3MB allocated, 2834.0MB reserved\n"
     ]
    },
    {
     "name": "stderr",
     "output_type": "stream",
     "text": [
      "Training:  50%|█████     | 4375/8750 [20:43<20:35,  3.54batch/s, loss=0.356, acc=0.817]"
     ]
    },
    {
     "name": "stdout",
     "output_type": "stream",
     "text": [
      "\n",
      "  Batch 4375/8750, Loss: 0.3538, Time: 1243.8s, Samples/sec: 112.6\n",
      "GPU Memory: 1447.3MB allocated, 2834.0MB reserved\n"
     ]
    },
    {
     "name": "stderr",
     "output_type": "stream",
     "text": [
      "Training:  60%|██████    | 5250/8750 [24:51<16:24,  3.56batch/s, loss=0.351, acc=0.822]"
     ]
    },
    {
     "name": "stdout",
     "output_type": "stream",
     "text": [
      "\n",
      "  Batch 5250/8750, Loss: 0.3468, Time: 1491.5s, Samples/sec: 112.6\n",
      "GPU Memory: 1447.3MB allocated, 2834.0MB reserved\n"
     ]
    },
    {
     "name": "stderr",
     "output_type": "stream",
     "text": [
      "Training:  70%|███████   | 6125/8750 [28:59<12:33,  3.48batch/s, loss=0.326, acc=0.827]"
     ]
    },
    {
     "name": "stdout",
     "output_type": "stream",
     "text": [
      "\n",
      "  Batch 6125/8750, Loss: 0.3397, Time: 1739.2s, Samples/sec: 112.7\n",
      "GPU Memory: 1447.3MB allocated, 2834.0MB reserved\n"
     ]
    },
    {
     "name": "stderr",
     "output_type": "stream",
     "text": [
      "Training:  80%|████████  | 7000/8750 [33:06<08:12,  3.55batch/s, loss=0.356, acc=0.83]"
     ]
    },
    {
     "name": "stdout",
     "output_type": "stream",
     "text": [
      "\n",
      "  Batch 7000/8750, Loss: 0.3407, Time: 1986.7s, Samples/sec: 112.7\n",
      "GPU Memory: 1447.3MB allocated, 2834.0MB reserved\n"
     ]
    },
    {
     "name": "stderr",
     "output_type": "stream",
     "text": [
      "Training:  90%|█████████ | 7875/8750 [37:14<04:06,  3.55batch/s, loss=0.325, acc=0.833]"
     ]
    },
    {
     "name": "stdout",
     "output_type": "stream",
     "text": [
      "\n",
      "  Batch 7875/8750, Loss: 0.3373, Time: 2234.3s, Samples/sec: 112.8\n",
      "GPU Memory: 1447.3MB allocated, 2834.0MB reserved\n"
     ]
    },
    {
     "name": "stderr",
     "output_type": "stream",
     "text": [
      "Training: 100%|██████████| 8750/8750 [41:21<00:00,  3.53batch/s, loss=0.329, acc=0.836]\n"
     ]
    },
    {
     "name": "stdout",
     "output_type": "stream",
     "text": [
      "\n",
      "  Batch 8750/8750, Loss: 0.3290, Time: 2481.8s, Samples/sec: 112.8\n",
      "GPU Memory: 1447.3MB allocated, 2834.0MB reserved\n",
      "\n",
      "Train loss: 0.3683\n",
      "Train accuracy: 0.8357\n",
      "Training time: 2481.82s\n",
      "\n",
      "Running validation...\n"
     ]
    },
    {
     "name": "stderr",
     "output_type": "stream",
     "text": [
      "Evaluating: 100%|██████████| 1250/1250 [01:43<00:00, 12.05batch/s]\n"
     ]
    },
    {
     "name": "stdout",
     "output_type": "stream",
     "text": [
      "GPU Memory: 1447.3MB allocated, 2834.0MB reserved\n",
      "Validation loss: 0.3265\n",
      "Validation accuracy: 0.8653\n",
      "\n",
      "Validation Classification Report:\n",
      "              precision    recall  f1-score   support\n",
      "\n",
      "    Negative       0.85      0.88      0.87     20000\n",
      "    Positive       0.88      0.85      0.86     20000\n",
      "\n",
      "    accuracy                           0.87     40000\n",
      "   macro avg       0.87      0.87      0.87     40000\n",
      "weighted avg       0.87      0.87      0.87     40000\n",
      "\n",
      "Saved best model!\n",
      "\n",
      "==================== Epoch 2/2 ====================\n"
     ]
    },
    {
     "name": "stderr",
     "output_type": "stream",
     "text": [
      "Training:  10%|█         | 875/8750 [04:07<36:58,  3.55batch/s, loss=0.28, acc=0.881]"
     ]
    },
    {
     "name": "stdout",
     "output_type": "stream",
     "text": [
      "\n",
      "  Batch 875/8750, Loss: 0.2874, Time: 247.5s, Samples/sec: 113.1\n",
      "GPU Memory: 1447.3MB allocated, 2834.0MB reserved\n"
     ]
    },
    {
     "name": "stderr",
     "output_type": "stream",
     "text": [
      "Training:  20%|██        | 1750/8750 [08:14<33:02,  3.53batch/s, loss=0.294, acc=0.883]"
     ]
    },
    {
     "name": "stdout",
     "output_type": "stream",
     "text": [
      "\n",
      "  Batch 1750/8750, Loss: 0.2816, Time: 494.4s, Samples/sec: 113.3\n",
      "GPU Memory: 1447.3MB allocated, 2834.0MB reserved\n"
     ]
    },
    {
     "name": "stderr",
     "output_type": "stream",
     "text": [
      "Training:  30%|███       | 2625/8750 [12:21<28:42,  3.56batch/s, loss=0.285, acc=0.882]"
     ]
    },
    {
     "name": "stdout",
     "output_type": "stream",
     "text": [
      "\n",
      "  Batch 2625/8750, Loss: 0.2863, Time: 741.6s, Samples/sec: 113.3\n",
      "GPU Memory: 1447.3MB allocated, 2834.0MB reserved\n"
     ]
    },
    {
     "name": "stderr",
     "output_type": "stream",
     "text": [
      "Training:  40%|████      | 3500/8750 [16:28<24:57,  3.51batch/s, loss=0.263, acc=0.882]"
     ]
    },
    {
     "name": "stdout",
     "output_type": "stream",
     "text": [
      "\n",
      "  Batch 3500/8750, Loss: 0.2834, Time: 988.8s, Samples/sec: 113.3\n",
      "GPU Memory: 1447.3MB allocated, 2834.0MB reserved\n"
     ]
    },
    {
     "name": "stderr",
     "output_type": "stream",
     "text": [
      "Training:  50%|█████     | 4375/8750 [20:35<20:34,  3.54batch/s, loss=0.283, acc=0.882]"
     ]
    },
    {
     "name": "stdout",
     "output_type": "stream",
     "text": [
      "\n",
      "  Batch 4375/8750, Loss: 0.2859, Time: 1235.9s, Samples/sec: 113.3\n",
      "GPU Memory: 1447.3MB allocated, 2834.0MB reserved\n"
     ]
    },
    {
     "name": "stderr",
     "output_type": "stream",
     "text": [
      "Training:  60%|██████    | 5250/8750 [24:43<16:27,  3.55batch/s, loss=0.281, acc=0.882]"
     ]
    },
    {
     "name": "stdout",
     "output_type": "stream",
     "text": [
      "\n",
      "  Batch 5250/8750, Loss: 0.2776, Time: 1483.1s, Samples/sec: 113.3\n",
      "GPU Memory: 1447.3MB allocated, 2834.0MB reserved\n"
     ]
    },
    {
     "name": "stderr",
     "output_type": "stream",
     "text": [
      "Training:  70%|███████   | 6125/8750 [28:49<12:30,  3.50batch/s, loss=0.276, acc=0.883]"
     ]
    },
    {
     "name": "stdout",
     "output_type": "stream",
     "text": [
      "\n",
      "  Batch 6125/8750, Loss: 0.2753, Time: 1729.8s, Samples/sec: 113.3\n",
      "GPU Memory: 1447.3MB allocated, 2834.0MB reserved\n"
     ]
    },
    {
     "name": "stderr",
     "output_type": "stream",
     "text": [
      "Training:  80%|████████  | 7000/8750 [32:56<08:15,  3.53batch/s, loss=0.274, acc=0.883]"
     ]
    },
    {
     "name": "stdout",
     "output_type": "stream",
     "text": [
      "\n",
      "  Batch 7000/8750, Loss: 0.2781, Time: 1976.7s, Samples/sec: 113.3\n",
      "GPU Memory: 1447.3MB allocated, 2834.0MB reserved\n"
     ]
    },
    {
     "name": "stderr",
     "output_type": "stream",
     "text": [
      "Training:  90%|█████████ | 7875/8750 [37:03<04:06,  3.55batch/s, loss=0.259, acc=0.883]"
     ]
    },
    {
     "name": "stdout",
     "output_type": "stream",
     "text": [
      "\n",
      "  Batch 7875/8750, Loss: 0.2730, Time: 2223.5s, Samples/sec: 113.3\n",
      "GPU Memory: 1447.3MB allocated, 2834.0MB reserved\n"
     ]
    },
    {
     "name": "stderr",
     "output_type": "stream",
     "text": [
      "Training: 100%|██████████| 8750/8750 [41:10<00:00,  3.54batch/s, loss=0.259, acc=0.884]\n"
     ]
    },
    {
     "name": "stdout",
     "output_type": "stream",
     "text": [
      "\n",
      "  Batch 8750/8750, Loss: 0.2694, Time: 2470.5s, Samples/sec: 113.3\n",
      "GPU Memory: 1447.3MB allocated, 2834.0MB reserved\n",
      "\n",
      "Train loss: 0.2798\n",
      "Train accuracy: 0.8838\n",
      "Training time: 2470.53s\n",
      "\n",
      "Running validation...\n"
     ]
    },
    {
     "name": "stderr",
     "output_type": "stream",
     "text": [
      "Evaluating: 100%|██████████| 1250/1250 [01:43<00:00, 12.13batch/s]\n"
     ]
    },
    {
     "name": "stdout",
     "output_type": "stream",
     "text": [
      "GPU Memory: 1447.3MB allocated, 2834.0MB reserved\n",
      "Validation loss: 0.3199\n",
      "Validation accuracy: 0.8704\n",
      "\n",
      "Validation Classification Report:\n",
      "              precision    recall  f1-score   support\n",
      "\n",
      "    Negative       0.87      0.87      0.87     20000\n",
      "    Positive       0.87      0.87      0.87     20000\n",
      "\n",
      "    accuracy                           0.87     40000\n",
      "   macro avg       0.87      0.87      0.87     40000\n",
      "weighted avg       0.87      0.87      0.87     40000\n",
      "\n",
      "Saved best model!\n",
      "\n",
      "Evaluating on test set...\n"
     ]
    },
    {
     "name": "stderr",
     "output_type": "stream",
     "text": [
      "Evaluating: 100%|██████████| 2500/2500 [03:27<00:00, 12.03batch/s]\n"
     ]
    },
    {
     "name": "stdout",
     "output_type": "stream",
     "text": [
      "GPU Memory: 1447.3MB allocated, 2834.0MB reserved\n",
      "Test loss: 0.3171\n",
      "Test accuracy: 0.8722\n",
      "\n",
      "Test Classification Report:\n",
      "              precision    recall  f1-score   support\n",
      "\n",
      "    Negative       0.87      0.88      0.87     40000\n",
      "    Positive       0.87      0.87      0.87     40000\n",
      "\n",
      "    accuracy                           0.87     80000\n",
      "   macro avg       0.87      0.87      0.87     80000\n",
      "weighted avg       0.87      0.87      0.87     80000\n",
      "\n",
      "\n",
      "Total training time: 1h 30m 9s\n",
      "Training completed successfully!\n",
      "Peak GPU memory usage: 2408.1 MB\n"
     ]
    },
    {
     "data": {
      "image/png": "[encoded data removed]",
      "text/plain": [
       "<Figure size 800x600 with 2 Axes>"
      ]
     },
     "metadata": {},
     "output_type": "display_data"
    },
    {
     "data": {
      "image/png": "[encoded data removed]",
      "text/plain": [
       "<Figure size 1200x500 with 2 Axes>"
      ]
     },
     "metadata": {},
     "output_type": "display_data"
    },
    {
     "name": "stdout",
     "output_type": "stream",
     "text": [
      "\n",
      "Predicting sentiment for example tweets:\n",
      "Tweet: I absolutely love this new phone, it's amazing!\n",
      "Sentiment: Positive\n",
      "\n",
      "Tweet: This movie was terrible, I hated every minute of it\n",
      "Sentiment: Negative\n",
      "\n",
      "Tweet: The food was okay, not great but not bad either\n",
      "Sentiment: Positive\n",
      "\n",
      "Tweet: I can't believe how bad the customer service was today\n",
      "Sentiment: Negative\n",
      "\n"
     ]
    }
   ],
   "source": [
    "import pandas as pd\n",
    "import numpy as np\n",
    "import torch\n",
    "from torch.utils.data import Dataset, DataLoader, RandomSampler, SequentialSampler\n",
    "from transformers import RobertaTokenizer, RobertaForSequenceClassification, get_linear_schedule_with_warmup\n",
    "from torch.optim import AdamW  # Corrected import\n",
    "from sklearn.model_selection import train_test_split\n",
    "from sklearn.metrics import classification_report, confusion_matrix, accuracy_score\n",
    "import matplotlib.pyplot as plt\n",
    "import seaborn as sns\n",
    "import time\n",
    "import os\n",
    "import re\n",
    "from tqdm import tqdm\n",
    "import psutil\n",
    "import warnings\n",
    "warnings.filterwarnings('ignore')\n",
    "\n",
    "# Set random seed for reproducibility\n",
    "def set_seed(seed_value=42):\n",
    "    np.random.seed(seed_value)\n",
    "    torch.manual_seed(seed_value)\n",
    "    torch.cuda.manual_seed_all(seed_value)\n",
    "\n",
    "set_seed(42)\n",
    "\n",
    "# Check hardware resources\n",
    "print(\"\\n===== HARDWARE INFORMATION =====\")\n",
    "if torch.cuda.is_available():\n",
    "    print(f\"Using GPU: {torch.cuda.get_device_name(0)}\")\n",
    "    print(f\"GPU Memory: {torch.cuda.get_device_properties(0).total_memory / 1e9:.2f} GB\")\n",
    "    device = torch.device(\"cuda\")\n",
    "else:\n",
    "    print(\"WARNING: Using CPU, training will be extremely slow\")\n",
    "    device = torch.device(\"cpu\")\n",
    "\n",
    "print(f\"CPU Cores: {psutil.cpu_count(logical=False)} (Physical), {psutil.cpu_count()} (Logical)\")\n",
    "print(f\"RAM Available: {psutil.virtual_memory().available / 1e9:.2f} GB / {psutil.virtual_memory().total / 1e9:.2f} GB\")\n",
    "print(\"================================\\n\")\n",
    "\n",
    "# Define parameters optimized for performance\n",
    "MODEL_NAME = \"roberta-base\"\n",
    "MAX_LEN = 48\n",
    "BATCH_SIZE = 32\n",
    "SAMPLE_SIZE = 400000  # Increased to 400K (200K per class)\n",
    "LEARNING_RATE = 2e-5\n",
    "EPOCHS = 2\n",
    "WEIGHT_DECAY = 0.01\n",
    "WARMUP_RATIO = 0.1\n",
    "MAX_GRAD_NORM = 1.0\n",
    "NUM_WORKERS = 0\n",
    "\n",
    "# Minimal preprocessing function for Twitter data\n",
    "def minimal_preprocess_for_roberta(text):\n",
    "    \"\"\"Minimal preprocessing that preserves information RoBERTa can use\"\"\"\n",
    "    # Handle None or empty strings\n",
    "    if text is None or text == \"\":\n",
    "        return \"\"\n",
    "\n",
    "    # Convert to string if not already\n",
    "    text = str(text)\n",
    "\n",
    "    # Replace URLs with placeholder\n",
    "    text = re.sub(r'https?://\\S+|www\\.\\S+', '[URL]', text)\n",
    "\n",
    "    # Replace user mentions with placeholder\n",
    "    text = re.sub(r'@\\w+', '[USER]', text)\n",
    "\n",
    "    # Remove extra whitespace\n",
    "    text = re.sub(r'\\s+', ' ', text).strip()\n",
    "\n",
    "    return text\n",
    "\n",
    "# Load and prepare the Twitter dataset with missing value handling and sampling\n",
    "def load_twitter_data(file_path, sample_size=None):\n",
    "    print(f\"Loading data from {file_path}...\")\n",
    "\n",
    "    # Define column names\n",
    "    columns = ['target', 'ids', 'date', 'flag', 'user', 'text']\n",
    "\n",
    "    # Load the dataset\n",
    "    df = pd.read_csv(file_path, encoding='latin-1', names=columns)\n",
    "\n",
    "    # Check for missing values\n",
    "    initial_count = len(df)\n",
    "    print(f\"Initial dataset size: {initial_count} rows\")\n",
    "\n",
    "    # Remove rows with missing values\n",
    "    df = df.dropna()\n",
    "\n",
    "    # Check for empty text fields\n",
    "    empty_text_mask = df['text'].str.strip() == \"\"\n",
    "    if empty_text_mask.any():\n",
    "        print(f\"Found {empty_text_mask.sum()} rows with empty text fields\")\n",
    "        df = df[~empty_text_mask]\n",
    "\n",
    "    # Ensure target values are only 0 or 4\n",
    "    valid_targets_mask = df['target'].isin([0, 4])\n",
    "    if not valid_targets_mask.all():\n",
    "        print(f\"Found {(~valid_targets_mask).sum()} rows with invalid target values\")\n",
    "        df = df[valid_targets_mask]\n",
    "\n",
    "    # Apply sampling if specified\n",
    "    if sample_size is not None and sample_size < len(df):\n",
    "        print(f\"Using subset of {sample_size} examples for training (200K per class)\")\n",
    "        # Stratified sampling to maintain class balance\n",
    "        samples_per_class = sample_size // 2\n",
    "\n",
    "        # Get dataframes for each class\n",
    "        df_neg = df[df['target'] == 0]\n",
    "        df_pos = df[df['target'] == 4]\n",
    "\n",
    "        # Sample equal amounts from each class\n",
    "        if len(df_neg) > samples_per_class:\n",
    "            df_neg = df_neg.sample(n=samples_per_class, random_state=42)\n",
    "        if len(df_pos) > samples_per_class:\n",
    "            df_pos = df_pos.sample(n=samples_per_class, random_state=42)\n",
    "\n",
    "        # Combine the samples\n",
    "        df = pd.concat([df_neg, df_pos]).reset_index(drop=True)\n",
    "        print(f\"Sampled dataset size: {len(df)} rows\")\n",
    "\n",
    "    final_count = len(df)\n",
    "    print(f\"Final dataset size after cleaning: {final_count} rows\")\n",
    "\n",
    "    # Print class distribution\n",
    "    class_counts = df['target'].value_counts().sort_index()\n",
    "    print(\"Class distribution:\")\n",
    "    for target, count in class_counts.items():\n",
    "        print(f\"  Class {target}: {count} samples ({count/final_count:.1%})\")\n",
    "\n",
    "    # Map sentiment values (0 = negative, 4 = positive)\n",
    "    df['sentiment_label'] = df['target'].map({0: 0, 4: 1})\n",
    "\n",
    "    # Apply minimal preprocessing to raw text\n",
    "    print(\"Applying minimal preprocessing...\")\n",
    "    df['minimal_text'] = df['text'].apply(minimal_preprocess_for_roberta)\n",
    "\n",
    "    # Create train/val/test splits with 70/10/20 ratio\n",
    "    # First split off 30% for val+test combined\n",
    "    train_df, temp_df = train_test_split(df, test_size=0.3, stratify=df['sentiment_label'], random_state=42)\n",
    "    # Then split the 30% into 1/3 for validation (10% total) and 2/3 for testing (20% total)\n",
    "    val_df, test_df = train_test_split(temp_df, test_size=2/3, stratify=temp_df['sentiment_label'], random_state=42)\n",
    "\n",
    "    print(f\"Train set: {len(train_df)} examples ({len(train_df)/final_count:.1%})\")\n",
    "    print(f\"Validation set: {len(val_df)} examples ({len(val_df)/final_count:.1%})\")\n",
    "    print(f\"Test set: {len(test_df)} examples ({len(test_df)/final_count:.1%})\")\n",
    "\n",
    "    return train_df, val_df, test_df\n",
    "\n",
    "# Dataset class for Twitter data\n",
    "class TwitterDataset(Dataset):\n",
    "    def __init__(self, texts, labels, tokenizer, max_len):\n",
    "        self.texts = texts\n",
    "        self.labels = labels\n",
    "        self.tokenizer = tokenizer\n",
    "        self.max_len = max_len\n",
    "\n",
    "    def __len__(self):\n",
    "        return len(self.texts)\n",
    "\n",
    "    def __getitem__(self, idx):\n",
    "        text = str(self.texts[idx])\n",
    "        label = self.labels[idx]\n",
    "\n",
    "        encoding = self.tokenizer(\n",
    "            text,\n",
    "            max_length=self.max_len,\n",
    "            padding='max_length',\n",
    "            truncation=True,\n",
    "            return_tensors='pt'\n",
    "        )\n",
    "\n",
    "        return {\n",
    "            'input_ids': encoding['input_ids'].flatten(),\n",
    "            'attention_mask': encoding['attention_mask'].flatten(),\n",
    "            'labels': torch.tensor(label, dtype=torch.long)\n",
    "        }\n",
    "\n",
    "# Create DataLoaders with optimized settings\n",
    "def create_data_loaders(train_df, val_df, test_df, tokenizer, max_len, batch_size, num_workers):\n",
    "    # Create dataset objects\n",
    "    train_dataset = TwitterDataset(\n",
    "        texts=train_df['minimal_text'].values,\n",
    "        labels=train_df['sentiment_label'].values,\n",
    "        tokenizer=tokenizer,\n",
    "        max_len=max_len\n",
    "    )\n",
    "\n",
    "    val_dataset = TwitterDataset(\n",
    "        texts=val_df['minimal_text'].values,\n",
    "        labels=val_df['sentiment_label'].values,\n",
    "        tokenizer=tokenizer,\n",
    "        max_len=max_len\n",
    "    )\n",
    "\n",
    "    test_dataset = TwitterDataset(\n",
    "        texts=test_df['minimal_text'].values,\n",
    "        labels=test_df['sentiment_label'].values,\n",
    "        tokenizer=tokenizer,\n",
    "        max_len=max_len\n",
    "    )\n",
    "\n",
    "    # Use pin_memory only if using GPU\n",
    "    pin_memory = torch.cuda.is_available()\n",
    "\n",
    "    # Create DataLoaders\n",
    "    train_dataloader = DataLoader(\n",
    "        train_dataset,\n",
    "        sampler=RandomSampler(train_dataset),\n",
    "        batch_size=batch_size,\n",
    "        num_workers=num_workers,\n",
    "        pin_memory=pin_memory\n",
    "    )\n",
    "\n",
    "    val_dataloader = DataLoader(\n",
    "        val_dataset,\n",
    "        sampler=SequentialSampler(val_dataset),\n",
    "        batch_size=batch_size,\n",
    "        num_workers=num_workers,\n",
    "        pin_memory=pin_memory\n",
    "    )\n",
    "\n",
    "    test_dataloader = DataLoader(\n",
    "        test_dataset,\n",
    "        sampler=SequentialSampler(test_dataset),\n",
    "        batch_size=batch_size,\n",
    "        num_workers=num_workers,\n",
    "        pin_memory=pin_memory\n",
    "    )\n",
    "\n",
    "    return train_dataloader, val_dataloader, test_dataloader\n",
    "\n",
    "# Function to monitor GPU memory usage\n",
    "def print_gpu_memory_usage():\n",
    "    if torch.cuda.is_available():\n",
    "        allocated = torch.cuda.memory_allocated() / 1024**2\n",
    "        reserved = torch.cuda.memory_reserved() / 1024**2\n",
    "        print(f\"GPU Memory: {allocated:.1f}MB allocated, {reserved:.1f}MB reserved\")\n",
    "\n",
    "# Training function with improved monitoring\n",
    "def train_epoch(model, dataloader, optimizer, scheduler, device, n_examples):\n",
    "    model.train()\n",
    "\n",
    "    losses = []\n",
    "    correct_predictions = 0\n",
    "\n",
    "    progress_bar = tqdm(dataloader, desc=\"Training\", unit=\"batch\")\n",
    "\n",
    "    # For monitoring\n",
    "    batch_count = 0\n",
    "    checkpoint_every = max(1, len(dataloader) // 10)  # Report 10 times per epoch\n",
    "    start_time = time.time()\n",
    "\n",
    "    for batch in progress_bar:\n",
    "        # Move data to device\n",
    "        input_ids = batch['input_ids'].to(device)\n",
    "        attention_mask = batch['attention_mask'].to(device)\n",
    "        labels = batch['labels'].to(device)\n",
    "\n",
    "        # Forward pass\n",
    "        outputs = model(\n",
    "            input_ids=input_ids,\n",
    "            attention_mask=attention_mask,\n",
    "            labels=labels\n",
    "        )\n",
    "\n",
    "        loss = outputs.loss\n",
    "        logits = outputs.logits\n",
    "\n",
    "        # Backward pass\n",
    "        loss.backward()\n",
    "\n",
    "        # Clip gradients\n",
    "        torch.nn.utils.clip_grad_norm_(model.parameters(), MAX_GRAD_NORM)\n",
    "\n",
    "        # Update weights\n",
    "        optimizer.step()\n",
    "        scheduler.step()\n",
    "        optimizer.zero_grad()\n",
    "\n",
    "        # Track metrics\n",
    "        _, preds = torch.max(logits, dim=1)\n",
    "        correct_predictions += torch.sum(preds == labels)\n",
    "        losses.append(loss.item())\n",
    "\n",
    "        # Update progress bar\n",
    "        batch_count += 1\n",
    "        progress_bar.set_postfix({\n",
    "            'loss': np.mean(losses[-100:]) if losses else 0,\n",
    "            'acc': (correct_predictions.double() / ((batch_count * batch['input_ids'].size(0)))).item()\n",
    "        })\n",
    "\n",
    "        # Periodically print detailed progress\n",
    "        if batch_count % checkpoint_every == 0:\n",
    "            elapsed = time.time() - start_time\n",
    "            print(f\"\\n  Batch {batch_count}/{len(dataloader)}, \"\n",
    "                  f\"Loss: {np.mean(losses[-checkpoint_every:]):.4f}, \"\n",
    "                  f\"Time: {elapsed:.1f}s, \"\n",
    "                  f\"Samples/sec: {(batch_count * BATCH_SIZE) / elapsed:.1f}\")\n",
    "            print_gpu_memory_usage()\n",
    "\n",
    "    return correct_predictions.double() / n_examples, np.mean(losses)\n",
    "\n",
    "# Evaluation function with memory tracking\n",
    "def eval_model(model, dataloader, device, n_examples):\n",
    "    model.eval()\n",
    "\n",
    "    losses = []\n",
    "    correct_predictions = 0\n",
    "    all_preds = []\n",
    "    all_labels = []\n",
    "\n",
    "    with torch.no_grad():\n",
    "        for batch in tqdm(dataloader, desc=\"Evaluating\", unit=\"batch\"):\n",
    "            input_ids = batch['input_ids'].to(device)\n",
    "            attention_mask = batch['attention_mask'].to(device)\n",
    "            labels = batch['labels'].to(device)\n",
    "\n",
    "            # Forward pass\n",
    "            outputs = model(\n",
    "                input_ids=input_ids,\n",
    "                attention_mask=attention_mask,\n",
    "                labels=labels\n",
    "            )\n",
    "\n",
    "            loss = outputs.loss\n",
    "            logits = outputs.logits\n",
    "\n",
    "            # Track metrics\n",
    "            _, preds = torch.max(logits, dim=1)\n",
    "            correct_predictions += torch.sum(preds == labels)\n",
    "            losses.append(loss.item())\n",
    "\n",
    "            # Store predictions and labels for classification report\n",
    "            all_preds.extend(preds.cpu().tolist())\n",
    "            all_labels.extend(labels.cpu().tolist())\n",
    "\n",
    "    print_gpu_memory_usage()\n",
    "\n",
    "    return (\n",
    "        correct_predictions.double() / n_examples,\n",
    "        np.mean(losses),\n",
    "        all_preds,\n",
    "        all_labels\n",
    "    )\n",
    "\n",
    "# Main training loop\n",
    "def train_and_evaluate():\n",
    "    # Start timing the entire process\n",
    "    total_start_time = time.time()\n",
    "\n",
    "    # Load and preprocess data\n",
    "    file_path = r\"/content/training.1600000.processed.noemoticon.csv\"\n",
    "    train_df, val_df, test_df = load_twitter_data(file_path, sample_size=SAMPLE_SIZE)\n",
    "\n",
    "    # Load tokenizer and model\n",
    "    print(f\"Loading {MODEL_NAME}...\")\n",
    "    tokenizer = RobertaTokenizer.from_pretrained(MODEL_NAME)\n",
    "    model = RobertaForSequenceClassification.from_pretrained(\n",
    "        MODEL_NAME,\n",
    "        num_labels=2,\n",
    "        output_attentions=False,\n",
    "        output_hidden_states=False\n",
    "    )\n",
    "    model.to(device)\n",
    "    print_gpu_memory_usage()\n",
    "\n",
    "    # Create DataLoaders\n",
    "    train_dataloader, val_dataloader, test_dataloader = create_data_loaders(\n",
    "        train_df, val_df, test_df, tokenizer, MAX_LEN, BATCH_SIZE, NUM_WORKERS\n",
    "    )\n",
    "\n",
    "    # Prepare optimizer and scheduler\n",
    "    total_steps = len(train_dataloader) * EPOCHS\n",
    "    warmup_steps = int(total_steps * WARMUP_RATIO)\n",
    "\n",
    "    optimizer = AdamW(\n",
    "        model.parameters(),\n",
    "        lr=LEARNING_RATE,\n",
    "        weight_decay=WEIGHT_DECAY\n",
    "    )\n",
    "\n",
    "    scheduler = get_linear_schedule_with_warmup(\n",
    "        optimizer,\n",
    "        num_warmup_steps=warmup_steps,\n",
    "        num_training_steps=total_steps\n",
    "    )\n",
    "\n",
    "    # Training loop\n",
    "    best_accuracy = 0\n",
    "    history = {\n",
    "        'train_acc': [],\n",
    "        'train_loss': [],\n",
    "        'val_acc': [],\n",
    "        'val_loss': []\n",
    "    }\n",
    "\n",
    "    for epoch in range(EPOCHS):\n",
    "        print(f\"\\n{'='*20} Epoch {epoch+1}/{EPOCHS} {'='*20}\")\n",
    "\n",
    "        # Train\n",
    "        epoch_start_time = time.time()\n",
    "        train_acc, train_loss = train_epoch(\n",
    "            model,\n",
    "            train_dataloader,\n",
    "            optimizer,\n",
    "            scheduler,\n",
    "            device,\n",
    "            len(train_df)\n",
    "        )\n",
    "        train_time = time.time() - epoch_start_time\n",
    "\n",
    "        print(f\"\\nTrain loss: {train_loss:.4f}\")\n",
    "        print(f\"Train accuracy: {train_acc:.4f}\")\n",
    "        print(f\"Training time: {train_time:.2f}s\")\n",
    "\n",
    "        # Validate\n",
    "        print(\"\\nRunning validation...\")\n",
    "        val_acc, val_loss, val_preds, val_labels = eval_model(\n",
    "            model,\n",
    "            val_dataloader,\n",
    "            device,\n",
    "            len(val_df)\n",
    "        )\n",
    "\n",
    "        print(f\"Validation loss: {val_loss:.4f}\")\n",
    "        print(f\"Validation accuracy: {val_acc:.4f}\")\n",
    "\n",
    "        # Print classification report\n",
    "        print(\"\\nValidation Classification Report:\")\n",
    "        print(classification_report(val_labels, val_preds, target_names=['Negative', 'Positive']))\n",
    "\n",
    "        # Save best model\n",
    "        if val_acc > best_accuracy:\n",
    "            best_accuracy = val_acc\n",
    "            # Create directory if it doesn't exist\n",
    "            os.makedirs(\"./roberta_twitter_model\", exist_ok=True)\n",
    "            # Save model\n",
    "            model.save_pretrained(\"./roberta_twitter_model\")\n",
    "            tokenizer.save_pretrained(\"./roberta_twitter_model\")\n",
    "            print(\"Saved best model!\")\n",
    "\n",
    "        # Update history\n",
    "        history['train_acc'].append(train_acc.item())\n",
    "        history['train_loss'].append(train_loss)\n",
    "        history['val_acc'].append(val_acc.item())\n",
    "        history['val_loss'].append(val_loss)\n",
    "\n",
    "    # Test on final model\n",
    "    print(\"\\nEvaluating on test set...\")\n",
    "    test_acc, test_loss, test_preds, test_labels = eval_model(\n",
    "        model,\n",
    "        test_dataloader,\n",
    "        device,\n",
    "        len(test_df)\n",
    "    )\n",
    "\n",
    "    print(f\"Test loss: {test_loss:.4f}\")\n",
    "    print(f\"Test accuracy: {test_acc:.4f}\")\n",
    "\n",
    "    # Print classification report\n",
    "    print(\"\\nTest Classification Report:\")\n",
    "    print(classification_report(test_labels, test_preds, target_names=['Negative', 'Positive']))\n",
    "\n",
    "    # Create confusion matrix\n",
    "    cm = confusion_matrix(test_labels, test_preds)\n",
    "    plt.figure(figsize=(8, 6))\n",
    "    sns.heatmap(\n",
    "        cm,\n",
    "        annot=True,\n",
    "        fmt='d',\n",
    "        cmap='Blues',\n",
    "        xticklabels=['Negative', 'Positive'],\n",
    "        yticklabels=['Negative', 'Positive']\n",
    "    )\n",
    "    plt.title(\"RoBERTa Confusion Matrix\")\n",
    "    plt.xlabel(\"Predicted\")\n",
    "    plt.ylabel(\"Actual\")\n",
    "    plt.tight_layout()\n",
    "    plt.savefig('roberta_confusion_matrix.png')\n",
    "\n",
    "    # Print total training time\n",
    "    total_time = time.time() - total_start_time\n",
    "    hours = int(total_time // 3600)\n",
    "    minutes = int((total_time % 3600) // 60)\n",
    "    seconds = int(total_time % 60)\n",
    "    print(f\"\\nTotal training time: {hours}h {minutes}m {seconds}s\")\n",
    "\n",
    "    return history, model, tokenizer\n",
    "\n",
    "# Function to predict sentiment with the trained model\n",
    "def predict_sentiment(text, model, tokenizer, max_len=MAX_LEN):\n",
    "    # Apply minimal preprocessing\n",
    "    text = minimal_preprocess_for_roberta(text)\n",
    "\n",
    "    # Tokenize\n",
    "    encoding = tokenizer(\n",
    "        text,\n",
    "        max_length=max_len,\n",
    "        padding='max_length',\n",
    "        truncation=True,\n",
    "        return_tensors='pt'\n",
    "    )\n",
    "\n",
    "    # Move to device\n",
    "    input_ids = encoding['input_ids'].to(device)\n",
    "    attention_mask = encoding['attention_mask'].to(device)\n",
    "\n",
    "    # Get prediction\n",
    "    model.eval()\n",
    "    with torch.no_grad():\n",
    "        outputs = model(input_ids=input_ids, attention_mask=attention_mask)\n",
    "        _, preds = torch.max(outputs.logits, dim=1)\n",
    "\n",
    "    return \"Positive\" if preds[0] == 1 else \"Negative\"\n",
    "\n",
    "# Run the training process\n",
    "if __name__ == \"__main__\":\n",
    "    print(\"Starting RoBERTa training for Twitter sentiment analysis with 400K samples...\")\n",
    "\n",
    "    try:\n",
    "        # Add memory tracking\n",
    "        if torch.cuda.is_available():\n",
    "            torch.cuda.reset_peak_memory_stats()\n",
    "\n",
    "        history, model, tokenizer = train_and_evaluate()\n",
    "        print(\"Training completed successfully!\")\n",
    "\n",
    "        # Report peak memory usage\n",
    "        if torch.cuda.is_available():\n",
    "            peak_memory = torch.cuda.max_memory_allocated() / 1024**2\n",
    "            print(f\"Peak GPU memory usage: {peak_memory:.1f} MB\")\n",
    "\n",
    "        # Plot training history\n",
    "        plt.figure(figsize=(12, 5))\n",
    "\n",
    "        plt.subplot(1, 2, 1)\n",
    "        plt.plot(history['train_acc'], label='Train Accuracy')\n",
    "        plt.plot(history['val_acc'], label='Validation Accuracy')\n",
    "        plt.title('Accuracy')\n",
    "        plt.xlabel('Epoch')\n",
    "        plt.legend()\n",
    "\n",
    "        plt.subplot(1, 2, 2)\n",
    "        plt.plot(history['train_loss'], label='Train Loss')\n",
    "        plt.plot(history['val_loss'], label='Validation Loss')\n",
    "        plt.title('Loss')\n",
    "        plt.xlabel('Epoch')\n",
    "        plt.legend()\n",
    "\n",
    "        plt.tight_layout()\n",
    "        plt.savefig('training_history.png')\n",
    "        plt.show()\n",
    "\n",
    "        # Test with example tweets\n",
    "        example_tweets = [\n",
    "            \"I absolutely love this new phone, it's amazing!\",\n",
    "            \"This movie was terrible, I hated every minute of it\",\n",
    "            \"The food was okay, not great but not bad either\",\n",
    "            \"I can't believe how bad the customer service was today\"\n",
    "        ]\n",
    "\n",
    "        print(\"\\nPredicting sentiment for example tweets:\")\n",
    "        for tweet in example_tweets:\n",
    "            sentiment = predict_sentiment(tweet, model, tokenizer)\n",
    "            print(f\"Tweet: {tweet}\")\n",
    "            print(f\"Sentiment: {sentiment}\\n\")\n",
    "\n",
    "    except Exception as e:\n",
    "        print(f\"An error occurred: {str(e)}\")\n",
    "        import traceback\n",
    "        traceback.print_exc()"
   ]
  }
 ],
 "metadata": {
  "accelerator": "GPU",
  "colab": {
   "gpuType": "T4",
   "provenance": []
  },
  "kernelspec": {
   "display_name": "Python 3",
   "name": "python3"
  },
  "language_info": {
   "name": "python"
  }
 },
 "nbformat": 4,
 "nbformat_minor": 0
}
